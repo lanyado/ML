{
  "cells": [
    {
      "cell_type": "markdown",
      "metadata": {
        "id": "X7JNeO216a7_"
      },
      "source": [
        "# Basic linear regreshion model (Y = AX + B)<br>"
      ]
    },
    {
      "cell_type": "code",
      "execution_count": 1,
      "metadata": {
        "id": "Rxuee_4s6a8A"
      },
      "outputs": [],
      "source": [
        "import pandas as pd\n",
        "import numpy as np\n",
        "import sklearn as sklb"
      ]
    },
    {
      "cell_type": "markdown",
      "metadata": {
        "id": "7ajEo5Jl6a8B"
      },
      "source": [
        "Load the dataset"
      ]
    },
    {
      "cell_type": "code",
      "execution_count": 2,
      "metadata": {
        "colab": {
          "base_uri": "https://localhost:8080/",
          "height": 159
        },
        "id": "mUfb49-a6a8C",
        "outputId": "9f16a28d-9fc0-4148-94fa-6523b6a8503e"
      },
      "outputs": [
        {
          "output_type": "execute_result",
          "data": {
            "text/plain": [
              "   Avg. Area Income  Avg. Area House Age  Avg. Area Number of Rooms  \\\n",
              "0      79545.458574             5.682861                   7.009188   \n",
              "\n",
              "   Avg. Area Number of Bedrooms  Area Population         Price  \\\n",
              "0                          4.09     23086.800503  1.059034e+06   \n",
              "\n",
              "                                             Address  \n",
              "0  208 Michael Ferry Apt. 674\\nLaurabury, NE 3701...  "
            ],
            "text/html": [
              "\n",
              "  <div id=\"df-53f0255a-7078-4a8f-bfce-9416b5babde7\">\n",
              "    <div class=\"colab-df-container\">\n",
              "      <div>\n",
              "<style scoped>\n",
              "    .dataframe tbody tr th:only-of-type {\n",
              "        vertical-align: middle;\n",
              "    }\n",
              "\n",
              "    .dataframe tbody tr th {\n",
              "        vertical-align: top;\n",
              "    }\n",
              "\n",
              "    .dataframe thead th {\n",
              "        text-align: right;\n",
              "    }\n",
              "</style>\n",
              "<table border=\"1\" class=\"dataframe\">\n",
              "  <thead>\n",
              "    <tr style=\"text-align: right;\">\n",
              "      <th></th>\n",
              "      <th>Avg. Area Income</th>\n",
              "      <th>Avg. Area House Age</th>\n",
              "      <th>Avg. Area Number of Rooms</th>\n",
              "      <th>Avg. Area Number of Bedrooms</th>\n",
              "      <th>Area Population</th>\n",
              "      <th>Price</th>\n",
              "      <th>Address</th>\n",
              "    </tr>\n",
              "  </thead>\n",
              "  <tbody>\n",
              "    <tr>\n",
              "      <th>0</th>\n",
              "      <td>79545.458574</td>\n",
              "      <td>5.682861</td>\n",
              "      <td>7.009188</td>\n",
              "      <td>4.09</td>\n",
              "      <td>23086.800503</td>\n",
              "      <td>1.059034e+06</td>\n",
              "      <td>208 Michael Ferry Apt. 674\\nLaurabury, NE 3701...</td>\n",
              "    </tr>\n",
              "  </tbody>\n",
              "</table>\n",
              "</div>\n",
              "      <button class=\"colab-df-convert\" onclick=\"convertToInteractive('df-53f0255a-7078-4a8f-bfce-9416b5babde7')\"\n",
              "              title=\"Convert this dataframe to an interactive table.\"\n",
              "              style=\"display:none;\">\n",
              "        \n",
              "  <svg xmlns=\"http://www.w3.org/2000/svg\" height=\"24px\"viewBox=\"0 0 24 24\"\n",
              "       width=\"24px\">\n",
              "    <path d=\"M0 0h24v24H0V0z\" fill=\"none\"/>\n",
              "    <path d=\"M18.56 5.44l.94 2.06.94-2.06 2.06-.94-2.06-.94-.94-2.06-.94 2.06-2.06.94zm-11 1L8.5 8.5l.94-2.06 2.06-.94-2.06-.94L8.5 2.5l-.94 2.06-2.06.94zm10 10l.94 2.06.94-2.06 2.06-.94-2.06-.94-.94-2.06-.94 2.06-2.06.94z\"/><path d=\"M17.41 7.96l-1.37-1.37c-.4-.4-.92-.59-1.43-.59-.52 0-1.04.2-1.43.59L10.3 9.45l-7.72 7.72c-.78.78-.78 2.05 0 2.83L4 21.41c.39.39.9.59 1.41.59.51 0 1.02-.2 1.41-.59l7.78-7.78 2.81-2.81c.8-.78.8-2.07 0-2.86zM5.41 20L4 18.59l7.72-7.72 1.47 1.35L5.41 20z\"/>\n",
              "  </svg>\n",
              "      </button>\n",
              "      \n",
              "  <style>\n",
              "    .colab-df-container {\n",
              "      display:flex;\n",
              "      flex-wrap:wrap;\n",
              "      gap: 12px;\n",
              "    }\n",
              "\n",
              "    .colab-df-convert {\n",
              "      background-color: #E8F0FE;\n",
              "      border: none;\n",
              "      border-radius: 50%;\n",
              "      cursor: pointer;\n",
              "      display: none;\n",
              "      fill: #1967D2;\n",
              "      height: 32px;\n",
              "      padding: 0 0 0 0;\n",
              "      width: 32px;\n",
              "    }\n",
              "\n",
              "    .colab-df-convert:hover {\n",
              "      background-color: #E2EBFA;\n",
              "      box-shadow: 0px 1px 2px rgba(60, 64, 67, 0.3), 0px 1px 3px 1px rgba(60, 64, 67, 0.15);\n",
              "      fill: #174EA6;\n",
              "    }\n",
              "\n",
              "    [theme=dark] .colab-df-convert {\n",
              "      background-color: #3B4455;\n",
              "      fill: #D2E3FC;\n",
              "    }\n",
              "\n",
              "    [theme=dark] .colab-df-convert:hover {\n",
              "      background-color: #434B5C;\n",
              "      box-shadow: 0px 1px 3px 1px rgba(0, 0, 0, 0.15);\n",
              "      filter: drop-shadow(0px 1px 2px rgba(0, 0, 0, 0.3));\n",
              "      fill: #FFFFFF;\n",
              "    }\n",
              "  </style>\n",
              "\n",
              "      <script>\n",
              "        const buttonEl =\n",
              "          document.querySelector('#df-53f0255a-7078-4a8f-bfce-9416b5babde7 button.colab-df-convert');\n",
              "        buttonEl.style.display =\n",
              "          google.colab.kernel.accessAllowed ? 'block' : 'none';\n",
              "\n",
              "        async function convertToInteractive(key) {\n",
              "          const element = document.querySelector('#df-53f0255a-7078-4a8f-bfce-9416b5babde7');\n",
              "          const dataTable =\n",
              "            await google.colab.kernel.invokeFunction('convertToInteractive',\n",
              "                                                     [key], {});\n",
              "          if (!dataTable) return;\n",
              "\n",
              "          const docLinkHtml = 'Like what you see? Visit the ' +\n",
              "            '<a target=\"_blank\" href=https://colab.research.google.com/notebooks/data_table.ipynb>data table notebook</a>'\n",
              "            + ' to learn more about interactive tables.';\n",
              "          element.innerHTML = '';\n",
              "          dataTable['output_type'] = 'display_data';\n",
              "          await google.colab.output.renderOutput(dataTable, element);\n",
              "          const docLink = document.createElement('div');\n",
              "          docLink.innerHTML = docLinkHtml;\n",
              "          element.appendChild(docLink);\n",
              "        }\n",
              "      </script>\n",
              "    </div>\n",
              "  </div>\n",
              "  "
            ]
          },
          "metadata": {},
          "execution_count": 2
        }
      ],
      "source": [
        "df = pd.read_csv('USA_Housing.csv')\n",
        "df.head(1)"
      ]
    },
    {
      "cell_type": "markdown",
      "metadata": {
        "id": "j9pHni4N6a8C"
      },
      "source": [
        "## Split to - X(Train), Y(Test) \n",
        "Create an X array that contains the features to train on, and a y array with the target variable - the Price column.\n",
        "While we remove any non valuable data"
      ]
    },
    {
      "cell_type": "code",
      "execution_count": 3,
      "metadata": {
        "id": "yIyE0VjF6a8C"
      },
      "outputs": [],
      "source": [
        "FEATURE_COLUMNS = ['Avg. Area Income','Avg. Area House Age','Avg. Area Number of Rooms','Avg. Area Number of Bedrooms','Area Population']\n",
        "LABEL_COLUMN = ['Price']"
      ]
    },
    {
      "cell_type": "code",
      "source": [
        "x = df[FEATURE_COLUMNS]\n",
        "y = df[LABEL_COLUMN] # Can also give it another column to prredict "
      ],
      "metadata": {
        "id": "uzAmP_dc99nA"
      },
      "execution_count": 4,
      "outputs": []
    },
    {
      "cell_type": "markdown",
      "metadata": {
        "id": "r57YMY5A6a8C"
      },
      "source": [
        "Use sklearn.model_selection.train_test_split to split the data (train/test) <br>\n",
        "We split the data to 70% and 30% , run the model on 70% data, and then test on the 30% and see if the results are close to the real values. "
      ]
    },
    {
      "cell_type": "code",
      "execution_count": 5,
      "metadata": {
        "id": "NyymV5PG6a8D"
      },
      "outputs": [],
      "source": [
        "from sklearn.model_selection import train_test_split\n",
        "x_train, x_test, y_train, y_test = train_test_split(x, y, test_size=0.30, random_state=42)"
      ]
    },
    {
      "cell_type": "markdown",
      "metadata": {
        "id": "RLAd1HUh6a8D"
      },
      "source": [
        "## Create the Model"
      ]
    },
    {
      "cell_type": "code",
      "execution_count": 6,
      "metadata": {
        "id": "nyBQugZl6a8D"
      },
      "outputs": [],
      "source": [
        "from sklearn.linear_model import LinearRegression"
      ]
    },
    {
      "cell_type": "code",
      "execution_count": 7,
      "metadata": {
        "id": "yJdvi8ZE6a8D"
      },
      "outputs": [],
      "source": [
        "model = LinearRegression()"
      ]
    },
    {
      "cell_type": "markdown",
      "metadata": {
        "id": "bNuI71yN6a8D"
      },
      "source": [
        "## Train the Model<br>\n",
        "We send it the X and the Y and it findes the A , B (from Y = AX + B)."
      ]
    },
    {
      "cell_type": "code",
      "execution_count": 8,
      "metadata": {
        "colab": {
          "base_uri": "https://localhost:8080/"
        },
        "id": "xyepkvKr6a8E",
        "outputId": "c1d5d963-02d2-4a01-d50f-5045151628bd"
      },
      "outputs": [
        {
          "output_type": "execute_result",
          "data": {
            "text/plain": [
              "LinearRegression()"
            ]
          },
          "metadata": {},
          "execution_count": 8
        }
      ],
      "source": [
        "model.fit(x_train, y_train)"
      ]
    },
    {
      "cell_type": "markdown",
      "metadata": {
        "id": "PFQ8-UY96a8E"
      },
      "source": [
        "## Information about the Model"
      ]
    },
    {
      "cell_type": "markdown",
      "metadata": {
        "id": "kIikO92V6a8E"
      },
      "source": [
        "Display the model coefficient/weiht. (The A from Y = AX + B).<br><br>\n",
        "If one of the coefs is really small we can delete his feature from the dataset, and retrain the model.<br>\n",
        "But, first have to check that this column doesn't have big numbers (like a salary), and than it's fine that it's coef is small."
      ]
    },
    {
      "cell_type": "code",
      "execution_count": 9,
      "metadata": {
        "colab": {
          "base_uri": "https://localhost:8080/"
        },
        "id": "ULv4yW766a8E",
        "outputId": "6eb8b7a6-6f03-47b8-ceb7-e7836251541a"
      },
      "outputs": [
        {
          "output_type": "execute_result",
          "data": {
            "text/plain": [
              "array([[2.16257989e+01, 1.65590393e+05, 1.19827783e+05, 2.36109526e+03,\n",
              "        1.52165814e+01]])"
            ]
          },
          "metadata": {},
          "execution_count": 9
        }
      ],
      "source": [
        "model.coef_"
      ]
    },
    {
      "cell_type": "markdown",
      "metadata": {
        "id": "DXXBeh1d6a8E"
      },
      "source": [
        "Display the model intercept/bias (The B from Y = AX + B).<br>\n",
        "The minimum value of every y (In this exmple, the minimum cose of every house)."
      ]
    },
    {
      "cell_type": "code",
      "execution_count": 10,
      "metadata": {
        "colab": {
          "base_uri": "https://localhost:8080/"
        },
        "id": "rMe2nW-N6a8E",
        "outputId": "e3371dee-037e-437e-eacf-66f27813cddb"
      },
      "outputs": [
        {
          "output_type": "execute_result",
          "data": {
            "text/plain": [
              "array([-2638673.42619028])"
            ]
          },
          "metadata": {},
          "execution_count": 10
        }
      ],
      "source": [
        "model.intercept_"
      ]
    },
    {
      "cell_type": "markdown",
      "metadata": {
        "id": "F4COSE1e6a8F"
      },
      "source": [
        "## Test the Model\n",
        "\n",
        "Predict the test set, and than check it to decide if the model is good"
      ]
    },
    {
      "cell_type": "code",
      "execution_count": 11,
      "metadata": {
        "id": "v2E9FZ4t6a8F"
      },
      "outputs": [],
      "source": [
        "predictions = model.predict(x_test)"
      ]
    },
    {
      "cell_type": "markdown",
      "metadata": {
        "id": "b6tJJHEK6a8F"
      },
      "source": [
        "Score - a math mathod <br>\n",
        "A precent of 100"
      ]
    },
    {
      "cell_type": "code",
      "execution_count": 12,
      "metadata": {
        "colab": {
          "base_uri": "https://localhost:8080/"
        },
        "id": "8bz6IskG6a8F",
        "outputId": "af639c82-2e50-42ec-91ad-b064da101557"
      },
      "outputs": [
        {
          "output_type": "execute_result",
          "data": {
            "text/plain": [
              "0.914681849875402"
            ]
          },
          "metadata": {},
          "execution_count": 12
        }
      ],
      "source": [
        "model.score(x_test, y_test) # Score - a math mathod"
      ]
    },
    {
      "cell_type": "markdown",
      "metadata": {
        "id": "XoWfYgN56a8F"
      },
      "source": [
        "### Loss function\n",
        "**Root Mean Squared Error** (RMSE) is the square root of the mean of the squared errors:\n",
        "\n",
        "$$\\sqrt{\\frac 1n\\sum_{i=1}^n(y_i-\\hat{y}_i)^2}$$\n",
        "The following function shows us the error rate.<br>\n",
        "It called **loss function**, because we want to minimize it.<br><br>\n",
        "Why the mean square of the sum of the pow?<br>\n",
        "Because if we got:<br>\n",
        "y_test => 1,000,000 | predicted => 1,000,000 | t_test-predicted =>&nbsp;&nbsp;&nbsp;&nbsp;&nbsp;&nbsp;&nbsp;&nbsp;&nbsp;&nbsp;&nbsp;&nbsp;&nbsp;0 (Perfect Model)<br>\n",
        "y_test => 1,500,000 | predicted => 1,600,000 | t_test-predicted => -100,000<br>\n",
        "y_test => 3,100,000 | predicted => 3,000,000 | t_test-predicted => &nbsp;100,000<br>\n",
        "Mean: 0 (sum/n)<br>\n",
        "RMSE: 50,000 (square(sum(pow)/n)) - The right answer."
      ]
    },
    {
      "cell_type": "code",
      "execution_count": 13,
      "metadata": {
        "colab": {
          "base_uri": "https://localhost:8080/"
        },
        "id": "SNKClLGM6a8G",
        "outputId": "c421142f-a260-4369-c499-9c054111cab9"
      },
      "outputs": [
        {
          "output_type": "execute_result",
          "data": {
            "text/plain": [
              "100341.52954485411"
            ]
          },
          "metadata": {},
          "execution_count": 13
        }
      ],
      "source": [
        "from sklearn import metrics\n",
        "np.sqrt(metrics.mean_squared_error(y_test, predictions))"
      ]
    },
    {
      "cell_type": "markdown",
      "metadata": {
        "id": "d32lVN2a6a8G"
      },
      "source": [
        "**Scatter Graph**<br>\n",
        "Use scatter graph with the test and the predictions.<br>\n",
        "We want to see a perfect thin line."
      ]
    },
    {
      "cell_type": "code",
      "execution_count": 14,
      "metadata": {
        "scrolled": true,
        "colab": {
          "base_uri": "https://localhost:8080/",
          "height": 307
        },
        "id": "CaSftW0o6a8G",
        "outputId": "6e110f5f-492d-4613-bd5f-8f468f9f9e16"
      },
      "outputs": [
        {
          "output_type": "execute_result",
          "data": {
            "text/plain": [
              "<matplotlib.collections.PathCollection at 0x7f3407a4b910>"
            ]
          },
          "metadata": {},
          "execution_count": 14
        },
        {
          "output_type": "display_data",
          "data": {
            "text/plain": [
              "<Figure size 432x288 with 1 Axes>"
            ],
            "image/png": "[encoded data removed]"
          },
          "metadata": {
            "needs_background": "light"
          }
        }
      ],
      "source": [
        "import matplotlib.pyplot as plt\n",
        "plt.scatter(y_test, predictions)"
      ]
    },
    {
      "cell_type": "markdown",
      "metadata": {
        "id": "2LhBSvvo6a8G"
      },
      "source": [
        "**Residual Histogram**<br>\n",
        "Create distplot with 50 bins for the error (real value - predicted).<br>\n",
        "We want to see one long column exculy on the zero."
      ]
    },
    {
      "cell_type": "code",
      "execution_count": 15,
      "metadata": {
        "colab": {
          "base_uri": "https://localhost:8080/",
          "height": 350
        },
        "id": "SFeirVLC6a8H",
        "outputId": "0acc57a6-ce8b-4b1e-9551-294ab5c35db1"
      },
      "outputs": [
        {
          "output_type": "stream",
          "name": "stderr",
          "text": [
            "/usr/local/lib/python3.7/dist-packages/seaborn/distributions.py:2619: FutureWarning: `distplot` is a deprecated function and will be removed in a future version. Please adapt your code to use either `displot` (a figure-level function with similar flexibility) or `histplot` (an axes-level function for histograms).\n",
            "  warnings.warn(msg, FutureWarning)\n"
          ]
        },
        {
          "output_type": "execute_result",
          "data": {
            "text/plain": [
              "<matplotlib.axes._subplots.AxesSubplot at 0x7f3407418c50>"
            ]
          },
          "metadata": {},
          "execution_count": 15
        },
        {
          "output_type": "display_data",
          "data": {
            "text/plain": [
              "<Figure size 432x288 with 1 Axes>"
            ],
            "image/png": "[encoded data removed]"
          },
          "metadata": {
            "needs_background": "light"
          }
        }
      ],
      "source": [
        "import seaborn as sb\n",
        "sb.distplot(y_test-predictions,bins=50)"
      ]
    },
    {
      "cell_type": "markdown",
      "source": [
        "# TensorFlow Linear Regrassion\n",
        "The TensorFlow model we are going to use requires that the data we pass it comes in as a ```tf.data.Dataset``` object. This means we must create a *input function* that can convert our current pandas dataframe into that object. "
      ],
      "metadata": {
        "id": "KLAsnHgC7olZ"
      }
    },
    {
      "cell_type": "code",
      "source": [
        "%tensorflow_version 2.x\n",
        "import tensorflow as tf"
      ],
      "metadata": {
        "colab": {
          "base_uri": "https://localhost:8080/"
        },
        "id": "zYeYjWjW6yHP",
        "outputId": "78da9710-c0cb-4131-cf74-ff90add6db3f"
      },
      "execution_count": 16,
      "outputs": [
        {
          "output_type": "stream",
          "name": "stdout",
          "text": [
            "Colab only includes TensorFlow 2.x; %tensorflow_version has no effect.\n"
          ]
        }
      ]
    },
    {
      "cell_type": "code",
      "source": [
        "def make_input_fn(data_df, label_df, num_epochs=10, shuffle=True, batch_size=32):\n",
        "  def input_function():  # inner function, this will be returned\n",
        "    ds = tf.data.Dataset.from_tensor_slices((dict(data_df), label_df))  # create tf.data.Dataset object with data and its label\n",
        "    if shuffle:\n",
        "      ds = ds.shuffle(1000)  # randomize order of data\n",
        "    ds = ds.batch(batch_size).repeat(num_epochs)  # split dataset into batches of 32 and repeat process for number of epochs\n",
        "    return ds  # return a batch of the dataset\n",
        "  return input_function  # return a function object for use\n",
        "  \n",
        "train_input_fn = make_input_fn(x_train, y_train)  # here we will call the input_function that was returned to us to get a dataset object we can feed to the model\n",
        "eval_input_fn = make_input_fn(x_test, y_test, num_epochs=1, shuffle=False)"
      ],
      "metadata": {
        "id": "vltNNnTD60D1"
      },
      "execution_count": 17,
      "outputs": []
    },
    {
      "cell_type": "markdown",
      "source": [
        "linear estimator = The Tensor Flow linear regression algorithm."
      ],
      "metadata": {
        "id": "v6K_feHw8Wao"
      }
    },
    {
      "cell_type": "code",
      "source": [
        "feature_columns = []\n",
        "for feature_name in FEATURE_COLUMNS:\n",
        "  feature_columns.append(tf.feature_column.numeric_column(feature_name, dtype=tf.float64))"
      ],
      "metadata": {
        "id": "zqEieS0z9RIW"
      },
      "execution_count": 24,
      "outputs": []
    },
    {
      "cell_type": "code",
      "source": [
        "feature_columns"
      ],
      "metadata": {
        "colab": {
          "base_uri": "https://localhost:8080/"
        },
        "id": "k-JxGoYy_bbo",
        "outputId": "34dab229-a5ab-479c-8796-6ec5b8c83c69"
      },
      "execution_count": 25,
      "outputs": [
        {
          "output_type": "execute_result",
          "data": {
            "text/plain": [
              "[NumericColumn(key='Avg. Area Income', shape=(1,), default_value=None, dtype=tf.float64, normalizer_fn=None),\n",
              " NumericColumn(key='Avg. Area House Age', shape=(1,), default_value=None, dtype=tf.float64, normalizer_fn=None),\n",
              " NumericColumn(key='Avg. Area Number of Rooms', shape=(1,), default_value=None, dtype=tf.float64, normalizer_fn=None),\n",
              " NumericColumn(key='Avg. Area Number of Bedrooms', shape=(1,), default_value=None, dtype=tf.float64, normalizer_fn=None),\n",
              " NumericColumn(key='Area Population', shape=(1,), default_value=None, dtype=tf.float64, normalizer_fn=None)]"
            ]
          },
          "metadata": {},
          "execution_count": 25
        }
      ]
    },
    {
      "cell_type": "code",
      "source": [
        "linear_est = tf.estimator.LinearRegressor(feature_columns=feature_columns)"
      ],
      "metadata": {
        "id": "caGJ60HK8Akd"
      },
      "execution_count": null,
      "outputs": []
    },
    {
      "cell_type": "code",
      "source": [
        "linear_est.train(train_input_fn)"
      ],
      "metadata": {
        "id": "bIZ1Jjny8ZK4"
      },
      "execution_count": null,
      "outputs": []
    },
    {
      "cell_type": "code",
      "source": [
        "result = linear_est.evaluate(eval_input_fn)  # get model metrics/stats by testing on tetsing data"
      ],
      "metadata": {
        "id": "pSE_syuD8y7m"
      },
      "execution_count": null,
      "outputs": []
    },
    {
      "cell_type": "code",
      "source": [
        "print(result)  # the result variable is simply a dict of stats about our model"
      ],
      "metadata": {
        "colab": {
          "base_uri": "https://localhost:8080/"
        },
        "id": "-3qvGQRSBoyN",
        "outputId": "d00d59b0-05f7-4fb9-8e14-94faffd4a54c"
      },
      "execution_count": 34,
      "outputs": [
        {
          "output_type": "stream",
          "name": "stdout",
          "text": [
            "{'average_loss': 123598275000.0, 'label/mean': 1241064.0, 'loss': 123677660000.0, 'prediction/mean': 1004027.75, 'global_step': 1100}\n"
          ]
        }
      ]
    }
  ],
  "metadata": {
    "kernelspec": {
      "display_name": "Python 3 (ipykernel)",
      "language": "python",
      "name": "python3"
    },
    "language_info": {
      "codemirror_mode": {
        "name": "ipython",
        "version": 3
      },
      "file_extension": ".py",
      "mimetype": "text/x-python",
      "name": "python",
      "nbconvert_exporter": "python",
      "pygments_lexer": "ipython3",
      "version": "3.9.10"
    },
    "colab": {
      "name": "Linear Regression.ipynb",
      "provenance": [],
      "collapsed_sections": [],
      "toc_visible": true
    }
  },
  "nbformat": 4,
  "nbformat_minor": 0
}
