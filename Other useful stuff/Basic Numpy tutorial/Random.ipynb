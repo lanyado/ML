{
 "cells": [
  {
   "cell_type": "code",
   "execution_count": 1,
   "metadata": {},
   "outputs": [],
   "source": [
    "#!pip install numpy\n",
    "import numpy as np"
   ]
  },
  {
   "cell_type": "code",
   "execution_count": 34,
   "metadata": {},
   "outputs": [
    {
     "data": {
      "text/plain": [
       "array([ 0.88995643,  0.97628374,  0.73767342,  1.32020101, -1.17755195])"
      ]
     },
     "execution_count": 34,
     "metadata": {},
     "output_type": "execute_result"
    }
   ],
   "source": [
    "# Generates 5 random numbers sampled from a standard normal distribution close to 0\n",
    "np.random.randn(5)\n",
    "# Its basiclly the same, but - https://stackoverflow.com/questions/21738383/python-difference-between-randn-and-normal"
   ]
  },
  {
   "cell_type": "code",
   "execution_count": 6,
   "metadata": {},
   "outputs": [
    {
     "data": {
      "text/plain": [
       "array([0.89074821, 0.28218288, 0.49015564, 0.99885046, 0.38464995])"
      ]
     },
     "execution_count": 6,
     "metadata": {},
     "output_type": "execute_result"
    }
   ],
   "source": [
    "#Generates a random number between 0 and 1\n",
    "np.random.rand()\n",
    "#Generates a list of 5 random numbers between 0 and 1\n",
    "np.random.rand(5)"
   ]
  },
  {
   "cell_type": "code",
   "execution_count": 3,
   "metadata": {},
   "outputs": [
    {
     "data": {
      "text/plain": [
       "array([[245, 184,  90, 215,  33],\n",
       "       [ 29, 223, 155, 133, 200],\n",
       "       [105, 154,  61, 205,  97]])"
      ]
     },
     "execution_count": 3,
     "metadata": {},
     "output_type": "execute_result"
    }
   ],
   "source": [
    "#Generate a random number between 10 and 19\n",
    "np.random.randint(10,20)\n",
    "#Generate an array of 5 random numbers between 10 and 19\n",
    "np.random.randint(10,20,5)\n",
    "#Generates ints between 0 and 225 to a two dimensions array with 5 columns and 3 rows\n",
    "np.random.randint(0,256,[3,5])"
   ]
  },
  {
   "cell_type": "code",
   "execution_count": 5,
   "metadata": {},
   "outputs": [
    {
     "data": {
      "text/plain": [
       "array([[10.08041829, 86.7888973 ,  0.1667386 , 35.2589026 , 24.09995815],\n",
       "       [35.05753163, 61.33448995,  7.91356642, 28.59450204, 21.77742918]])"
      ]
     },
     "execution_count": 5,
     "metadata": {},
     "output_type": "execute_result"
    }
   ],
   "source": [
    "#Generates an array [2,5] with random floats between 0 and 100\n",
    "np.random.uniform(0,100,[2,5])"
   ]
  },
  {
   "cell_type": "code",
   "execution_count": 36,
   "metadata": {},
   "outputs": [
    {
     "data": {
      "text/plain": [
       "array([1.65885686, 1.86636758, 1.72411163, 2.05693741, 1.7029568 ])"
      ]
     },
     "execution_count": 36,
     "metadata": {},
     "output_type": "execute_result"
    }
   ],
   "source": [
    "# התפלגות גאוסית (פעמון)/התפלגות נורמאלית\n",
    "# Sampled numbers from a standard normal distribution\n",
    "# Generates 5 numbers that most of them will be between 1.65 to 1.85\n",
    "np.random.normal(1.75, 0.1, 5)"
   ]
  },
  {
   "cell_type": "code",
   "execution_count": 7,
   "metadata": {},
   "outputs": [
    {
     "data": {
      "text/plain": [
       "array(['A', 'A', 'A', 'A', 'B'], dtype='<U1')"
      ]
     },
     "execution_count": 7,
     "metadata": {},
     "output_type": "execute_result"
    }
   ],
   "source": [
    "#Generates an array of 5 random Values - A/B/C (Because thats what we gave it)\n",
    "np.random.choice(['A','B','C'],5)"
   ]
  },
  {
   "cell_type": "code",
   "execution_count": null,
   "metadata": {},
   "outputs": [],
   "source": [
    "#Makes every random after it returns the same answer every time, because the random will always start from that point\n",
    "np.random.seed(300)"
   ]
  }
 ],
 "metadata": {
  "kernelspec": {
   "display_name": "Python 3",
   "language": "python",
   "name": "python3"
  },
  "language_info": {
   "codemirror_mode": {
    "name": "ipython",
    "version": 3
   },
   "file_extension": ".py",
   "mimetype": "text/x-python",
   "name": "python",
   "nbconvert_exporter": "python",
   "pygments_lexer": "ipython3",
   "version": "3.7.3"
  }
 },
 "nbformat": 4,
 "nbformat_minor": 2
}
